{
  "nbformat": 4,
  "nbformat_minor": 0,
  "metadata": {
    "colab": {
      "name": "visualizacao_dados.ipynb",
      "provenance": [],
      "authorship_tag": "ABX9TyPgcXgrFRhyd0+DK22Zge+V",
      "include_colab_link": true
    },
    "kernelspec": {
      "name": "python3",
      "display_name": "Python 3"
    },
    "language_info": {
      "name": "python"
    }
  },
  "cells": [
    {
      "cell_type": "markdown",
      "metadata": {
        "id": "view-in-github",
        "colab_type": "text"
      },
      "source": [
        "<a href=\"https://colab.research.google.com/github/daniellepatricio/Analise-de-Dados_Pandas_Python/blob/main/visualizacao_dados.ipynb\" target=\"_parent\"><img src=\"https://colab.research.google.com/assets/colab-badge.svg\" alt=\"Open In Colab\"/></a>"
      ]
    },
    {
      "cell_type": "markdown",
      "metadata": {
        "id": "dVk1gjn7Tfce"
      },
      "source": [
        "**VISUALIZAÇÃO DE DADOS:**"
      ]
    },
    {
      "cell_type": "code",
      "metadata": {
        "id": "J5BxZeAHTs58"
      },
      "source": [
        "# Importando a biblioteca\n",
        "import pandas as pd"
      ],
      "execution_count": 1,
      "outputs": []
    },
    {
      "cell_type": "code",
      "metadata": {
        "id": "YjBz_DtBTwMT"
      },
      "source": [
        "# Leitura dos arquivos\n",
        "df1 = pd.read_excel(\"Aracaju.xlsx\")\n",
        "df2 = pd.read_excel(\"Fortaleza.xlsx\")\n",
        "df3 = pd.read_excel(\"Natal.xlsx\")\n",
        "df4 = pd.read_excel(\"Recife.xlsx\")\n",
        "df5 = pd.read_excel(\"Salvador.xlsx\")"
      ],
      "execution_count": 2,
      "outputs": []
    },
    {
      "cell_type": "code",
      "metadata": {
        "id": "nWfffkzYT5d9"
      },
      "source": [
        "# Concatenar todos os arquivos\n",
        "df = pd.concat([df1, df2, df3, df4, df5])"
      ],
      "execution_count": 3,
      "outputs": []
    },
    {
      "cell_type": "code",
      "metadata": {
        "id": "YnPH2Zs8T9St"
      },
      "source": [
        "#Alterar o tipo de dados da coluna Data\n",
        "df[\"Data\"] = pd.to_datetime(df[\"Data\"])"
      ],
      "execution_count": 4,
      "outputs": []
    },
    {
      "cell_type": "code",
      "metadata": {
        "colab": {
          "base_uri": "https://localhost:8080/"
        },
        "id": "rD1abknZUG_9",
        "outputId": "f8c91d22-defc-45bb-df4a-1f0d3e5cb1fe"
      },
      "source": [
        "#Verificar o tipo de dados de cada coluna\n",
        "df.dtypes"
      ],
      "execution_count": 5,
      "outputs": [
        {
          "output_type": "execute_result",
          "data": {
            "text/plain": [
              "Cidade            object\n",
              "Data      datetime64[ns]\n",
              "Vendas           float64\n",
              "LojaID             int64\n",
              "Qtde               int64\n",
              "dtype: object"
            ]
          },
          "metadata": {},
          "execution_count": 5
        }
      ]
    },
    {
      "cell_type": "code",
      "metadata": {
        "id": "BH7Uq7qqUI6s"
      },
      "source": [
        "# Criando a coluna de receita\n",
        "df[\"Receita\"] = df[\"Vendas\"].mul(df[\"Qtde\"])"
      ],
      "execution_count": 6,
      "outputs": []
    },
    {
      "cell_type": "code",
      "metadata": {
        "colab": {
          "base_uri": "https://localhost:8080/"
        },
        "id": "DezZKmxwUMBs",
        "outputId": "6c0deeaa-62de-45ce-834d-70c81aa2930b"
      },
      "source": [
        "#Consultar vendas realizadas por loja\n",
        "df[\"LojaID\"].value_counts(ascending=False)"
      ],
      "execution_count": 7,
      "outputs": [
        {
          "output_type": "execute_result",
          "data": {
            "text/plain": [
              "1036    117\n",
              "1035    112\n",
              "1037    101\n",
              "1034     67\n",
              "983      65\n",
              "982      44\n",
              "1522     41\n",
              "1520     39\n",
              "980      36\n",
              "981      31\n",
              "1005     30\n",
              "1002     30\n",
              "1523     29\n",
              "852      29\n",
              "1004     28\n",
              "854      28\n",
              "853      26\n",
              "1521     21\n",
              "1003     20\n",
              "Name: LojaID, dtype: int64"
            ]
          },
          "metadata": {},
          "execution_count": 7
        }
      ]
    },
    {
      "cell_type": "code",
      "metadata": {
        "colab": {
          "base_uri": "https://localhost:8080/",
          "height": 298
        },
        "id": "9mPdturKUoYd",
        "outputId": "8b62d1d7-7cd9-4a25-86d1-25356120eeee"
      },
      "source": [
        "# Gráfico de barras - Vendas x Loja\n",
        "df[\"LojaID\"].value_counts(ascending=False).plot.bar()"
      ],
      "execution_count": 8,
      "outputs": [
        {
          "output_type": "execute_result",
          "data": {
            "text/plain": [
              "<matplotlib.axes._subplots.AxesSubplot at 0x7fca37bcf590>"
            ]
          },
          "metadata": {},
          "execution_count": 8
        },
        {
          "output_type": "display_data",
          "data": {
            "image/png": "[encoded data removed]",
            "text/plain": [
              "<Figure size 432x288 with 1 Axes>"
            ]
          },
          "metadata": {
            "needs_background": "light"
          }
        }
      ]
    },
    {
      "cell_type": "code",
      "metadata": {
        "colab": {
          "base_uri": "https://localhost:8080/",
          "height": 265
        },
        "id": "xBQt_b8kU0g9",
        "outputId": "df980947-b810-48da-c0ef-387504d11db3"
      },
      "source": [
        "# Gráfico de barras horizontais - Vendas x Loja\n",
        "df[\"LojaID\"].value_counts(ascending=False).plot.barh();"
      ],
      "execution_count": 12,
      "outputs": [
        {
          "output_type": "display_data",
          "data": {
            "image/png": "[encoded data removed]",
            "text/plain": [
              "<Figure size 432x288 with 1 Axes>"
            ]
          },
          "metadata": {
            "needs_background": "light"
          }
        }
      ]
    },
    {
      "cell_type": "code",
      "metadata": {
        "colab": {
          "base_uri": "https://localhost:8080/",
          "height": 265
        },
        "id": "NzeUfx9LVCd9",
        "outputId": "87cf5e06-13e1-46c2-fd33-7f7ef4196b13"
      },
      "source": [
        "# Gráfico de pizza - Receita x Ano\n",
        "df.groupby(df[\"Data\"].dt.year)[\"Receita\"].sum().plot.pie()"
      ],
      "execution_count": 10,
      "outputs": [
        {
          "output_type": "execute_result",
          "data": {
            "text/plain": [
              "<matplotlib.axes._subplots.AxesSubplot at 0x7fca3741ac50>"
            ]
          },
          "metadata": {},
          "execution_count": 10
        },
        {
          "output_type": "display_data",
          "data": {
            "image/png": "[encoded data removed]",
            "text/plain": [
              "<Figure size 432x288 with 1 Axes>"
            ]
          },
          "metadata": {}
        }
      ]
    },
    {
      "cell_type": "code",
      "metadata": {
        "colab": {
          "base_uri": "https://localhost:8080/"
        },
        "id": "NBcUhx8nVIte",
        "outputId": "333eb39a-5b5f-470a-9eb2-62c0692432e0"
      },
      "source": [
        "# Total de vendas por cidade\n",
        "df[\"Cidade\"].value_counts"
      ],
      "execution_count": 11,
      "outputs": [
        {
          "output_type": "execute_result",
          "data": {
            "text/plain": [
              "<bound method IndexOpsMixin.value_counts of 0       Aracaju\n",
              "1       Aracaju\n",
              "2       Aracaju\n",
              "3       Aracaju\n",
              "4       Aracaju\n",
              "         ...   \n",
              "235    Salvador\n",
              "236    Salvador\n",
              "237    Salvador\n",
              "238    Salvador\n",
              "239    Salvador\n",
              "Name: Cidade, Length: 894, dtype: object>"
            ]
          },
          "metadata": {},
          "execution_count": 11
        }
      ]
    },
    {
      "cell_type": "code",
      "metadata": {
        "colab": {
          "base_uri": "https://localhost:8080/",
          "height": 331
        },
        "id": "aV_LqxcwVVmO",
        "outputId": "6ca1b98e-c218-4637-eb12-12df02b26edf"
      },
      "source": [
        "# Adicionando um título e alterando o nome dos eixos\n",
        "import matplotlib.pyplot as plt\n",
        "df[\"Cidade\"].value_counts().plot.bar(title=\"Total Vendas por Cidade\")\n",
        "plt.xlabel(\"Cidade\")\n",
        "plt.ylabel(\"Total de vendas\");"
      ],
      "execution_count": 14,
      "outputs": [
        {
          "output_type": "display_data",
          "data": {
            "image/png": "[encoded data removed]",
            "text/plain": [
              "<Figure size 432x288 with 1 Axes>"
            ]
          },
          "metadata": {
            "needs_background": "light"
          }
        }
      ]
    },
    {
      "cell_type": "code",
      "metadata": {
        "colab": {
          "base_uri": "https://localhost:8080/",
          "height": 331
        },
        "id": "ZMAYyWwGV7v_",
        "outputId": "81dcf6e0-40ba-4e99-9002-8810ea73932e"
      },
      "source": [
        "# Alterar a cor\n",
        "df[\"Cidade\"].value_counts().plot.bar(title=\"Total de vendas por cidade\", color=\"red\")\n",
        "plt.xlabel(\"Cidade\")\n",
        "plt.ylabel(\"Total de vendas\");"
      ],
      "execution_count": 15,
      "outputs": [
        {
          "output_type": "display_data",
          "data": {
            "image/png": "[encoded data removed]",
            "text/plain": [
              "<Figure size 432x288 with 1 Axes>"
            ]
          },
          "metadata": {
            "needs_background": "light"
          }
        }
      ]
    },
    {
      "cell_type": "code",
      "metadata": {
        "id": "o753CxvsWKo_"
      },
      "source": [
        "# Alterar o estilo\n",
        "plt.style.use(\"ggplot\")"
      ],
      "execution_count": 16,
      "outputs": []
    },
    {
      "cell_type": "code",
      "metadata": {
        "colab": {
          "base_uri": "https://localhost:8080/",
          "height": 204
        },
        "id": "IZgNSoN_W89w",
        "outputId": "5b6fc81f-ce0b-4835-9c7c-967bca5d571f"
      },
      "source": [
        "#Pegar amostra de 5 linhas\n",
        "df.sample(5)"
      ],
      "execution_count": 19,
      "outputs": [
        {
          "output_type": "execute_result",
          "data": {
            "text/html": [
              "<div>\n",
              "<style scoped>\n",
              "    .dataframe tbody tr th:only-of-type {\n",
              "        vertical-align: middle;\n",
              "    }\n",
              "\n",
              "    .dataframe tbody tr th {\n",
              "        vertical-align: top;\n",
              "    }\n",
              "\n",
              "    .dataframe thead th {\n",
              "        text-align: right;\n",
              "    }\n",
              "</style>\n",
              "<table border=\"1\" class=\"dataframe\">\n",
              "  <thead>\n",
              "    <tr style=\"text-align: right;\">\n",
              "      <th></th>\n",
              "      <th>Cidade</th>\n",
              "      <th>Data</th>\n",
              "      <th>Vendas</th>\n",
              "      <th>LojaID</th>\n",
              "      <th>Qtde</th>\n",
              "      <th>Receita</th>\n",
              "    </tr>\n",
              "  </thead>\n",
              "  <tbody>\n",
              "    <tr>\n",
              "      <th>21</th>\n",
              "      <td>Aracaju</td>\n",
              "      <td>2018-01-01</td>\n",
              "      <td>37.36</td>\n",
              "      <td>1520</td>\n",
              "      <td>2</td>\n",
              "      <td>74.72</td>\n",
              "    </tr>\n",
              "    <tr>\n",
              "      <th>21</th>\n",
              "      <td>Natal</td>\n",
              "      <td>2019-02-08</td>\n",
              "      <td>679.00</td>\n",
              "      <td>853</td>\n",
              "      <td>2</td>\n",
              "      <td>1358.00</td>\n",
              "    </tr>\n",
              "    <tr>\n",
              "      <th>2</th>\n",
              "      <td>Fortaleza</td>\n",
              "      <td>2019-02-10</td>\n",
              "      <td>35.33</td>\n",
              "      <td>1004</td>\n",
              "      <td>3</td>\n",
              "      <td>105.99</td>\n",
              "    </tr>\n",
              "    <tr>\n",
              "      <th>234</th>\n",
              "      <td>Salvador</td>\n",
              "      <td>2019-01-03</td>\n",
              "      <td>48.39</td>\n",
              "      <td>1035</td>\n",
              "      <td>2</td>\n",
              "      <td>96.78</td>\n",
              "    </tr>\n",
              "    <tr>\n",
              "      <th>13</th>\n",
              "      <td>Salvador</td>\n",
              "      <td>2019-02-12</td>\n",
              "      <td>39.29</td>\n",
              "      <td>1035</td>\n",
              "      <td>1</td>\n",
              "      <td>39.29</td>\n",
              "    </tr>\n",
              "  </tbody>\n",
              "</table>\n",
              "</div>"
            ],
            "text/plain": [
              "        Cidade       Data  Vendas  LojaID  Qtde  Receita\n",
              "21     Aracaju 2018-01-01   37.36    1520     2    74.72\n",
              "21       Natal 2019-02-08  679.00     853     2  1358.00\n",
              "2    Fortaleza 2019-02-10   35.33    1004     3   105.99\n",
              "234   Salvador 2019-01-03   48.39    1035     2    96.78\n",
              "13    Salvador 2019-02-12   39.29    1035     1    39.29"
            ]
          },
          "metadata": {},
          "execution_count": 19
        }
      ]
    },
    {
      "cell_type": "code",
      "metadata": {
        "id": "PBqrl4n5XMRI"
      },
      "source": [
        "# Criar nova coluna com o ano\n",
        "df[\"Ano_Venda\"] = df[\"Data\"].dt.year"
      ],
      "execution_count": 20,
      "outputs": []
    },
    {
      "cell_type": "code",
      "metadata": {
        "id": "h-6FK0kYXOCI"
      },
      "source": [
        "# Extrair mês e dia\n",
        "df[\"Mes_Venda\"], df[\"Dia_Venda\"] = (df[\"Data\"].dt.month, df[\"Data\"].dt.day)"
      ],
      "execution_count": 21,
      "outputs": []
    },
    {
      "cell_type": "code",
      "metadata": {
        "colab": {
          "base_uri": "https://localhost:8080/",
          "height": 204
        },
        "id": "az61AdhNXSth",
        "outputId": "7604f431-0b83-487d-a479-7b09f78b788c"
      },
      "source": [
        "#Pegar amostra de 5 linhas\n",
        "df.sample(5)"
      ],
      "execution_count": 22,
      "outputs": [
        {
          "output_type": "execute_result",
          "data": {
            "text/html": [
              "<div>\n",
              "<style scoped>\n",
              "    .dataframe tbody tr th:only-of-type {\n",
              "        vertical-align: middle;\n",
              "    }\n",
              "\n",
              "    .dataframe tbody tr th {\n",
              "        vertical-align: top;\n",
              "    }\n",
              "\n",
              "    .dataframe thead th {\n",
              "        text-align: right;\n",
              "    }\n",
              "</style>\n",
              "<table border=\"1\" class=\"dataframe\">\n",
              "  <thead>\n",
              "    <tr style=\"text-align: right;\">\n",
              "      <th></th>\n",
              "      <th>Cidade</th>\n",
              "      <th>Data</th>\n",
              "      <th>Vendas</th>\n",
              "      <th>LojaID</th>\n",
              "      <th>Qtde</th>\n",
              "      <th>Receita</th>\n",
              "      <th>Ano_Venda</th>\n",
              "      <th>Mes_Venda</th>\n",
              "      <th>Dia_Venda</th>\n",
              "    </tr>\n",
              "  </thead>\n",
              "  <tbody>\n",
              "    <tr>\n",
              "      <th>58</th>\n",
              "      <td>Salvador</td>\n",
              "      <td>2019-01-01</td>\n",
              "      <td>20.64</td>\n",
              "      <td>1037</td>\n",
              "      <td>2</td>\n",
              "      <td>41.28</td>\n",
              "      <td>2019</td>\n",
              "      <td>1</td>\n",
              "      <td>1</td>\n",
              "    </tr>\n",
              "    <tr>\n",
              "      <th>63</th>\n",
              "      <td>Recife</td>\n",
              "      <td>2019-01-01</td>\n",
              "      <td>37.95</td>\n",
              "      <td>980</td>\n",
              "      <td>2</td>\n",
              "      <td>75.90</td>\n",
              "      <td>2019</td>\n",
              "      <td>1</td>\n",
              "      <td>1</td>\n",
              "    </tr>\n",
              "    <tr>\n",
              "      <th>24</th>\n",
              "      <td>Recife</td>\n",
              "      <td>2019-01-01</td>\n",
              "      <td>13.00</td>\n",
              "      <td>983</td>\n",
              "      <td>2</td>\n",
              "      <td>26.00</td>\n",
              "      <td>2019</td>\n",
              "      <td>1</td>\n",
              "      <td>1</td>\n",
              "    </tr>\n",
              "    <tr>\n",
              "      <th>143</th>\n",
              "      <td>Natal</td>\n",
              "      <td>2019-01-02</td>\n",
              "      <td>41.18</td>\n",
              "      <td>1037</td>\n",
              "      <td>2</td>\n",
              "      <td>82.36</td>\n",
              "      <td>2019</td>\n",
              "      <td>1</td>\n",
              "      <td>2</td>\n",
              "    </tr>\n",
              "    <tr>\n",
              "      <th>12</th>\n",
              "      <td>Fortaleza</td>\n",
              "      <td>2019-01-01</td>\n",
              "      <td>80.73</td>\n",
              "      <td>1004</td>\n",
              "      <td>2</td>\n",
              "      <td>161.46</td>\n",
              "      <td>2019</td>\n",
              "      <td>1</td>\n",
              "      <td>1</td>\n",
              "    </tr>\n",
              "  </tbody>\n",
              "</table>\n",
              "</div>"
            ],
            "text/plain": [
              "        Cidade       Data  Vendas  ...  Ano_Venda  Mes_Venda  Dia_Venda\n",
              "58    Salvador 2019-01-01   20.64  ...       2019          1          1\n",
              "63      Recife 2019-01-01   37.95  ...       2019          1          1\n",
              "24      Recife 2019-01-01   13.00  ...       2019          1          1\n",
              "143      Natal 2019-01-02   41.18  ...       2019          1          2\n",
              "12   Fortaleza 2019-01-01   80.73  ...       2019          1          1\n",
              "\n",
              "[5 rows x 9 columns]"
            ]
          },
          "metadata": {},
          "execution_count": 22
        }
      ]
    },
    {
      "cell_type": "code",
      "metadata": {
        "colab": {
          "base_uri": "https://localhost:8080/",
          "height": 299
        },
        "id": "_3evw9AIWSuv",
        "outputId": "d496e872-0159-4272-f4b6-339697e05baf"
      },
      "source": [
        "df.groupby(df[\"Mes_Venda\"])[\"Qtde\"].sum().plot(title=\"Total de Produtos Vendidos x Mês\")\n",
        "plt.xlabel(\"Mês\")\n",
        "plt.ylabel(\"Total de produtos vendidos\")\n",
        "plt.legend();"
      ],
      "execution_count": 23,
      "outputs": [
        {
          "output_type": "display_data",
          "data": {
            "image/png": "[encoded data removed]",
            "text/plain": [
              "<Figure size 432x288 with 1 Axes>"
            ]
          },
          "metadata": {}
        }
      ]
    },
    {
      "cell_type": "code",
      "metadata": {
        "colab": {
          "base_uri": "https://localhost:8080/"
        },
        "id": "zxK6enHYWWn_",
        "outputId": "4a96f9e2-006d-4716-b26b-1e7cc11a9c86"
      },
      "source": [
        "#Total de Produtos Vendidos x Mês\n",
        "df.groupby(df[\"Mes_Venda\"])[\"Qtde\"].sum()"
      ],
      "execution_count": 24,
      "outputs": [
        {
          "output_type": "execute_result",
          "data": {
            "text/plain": [
              "Mes_Venda\n",
              "1     2208\n",
              "2      144\n",
              "3      467\n",
              "4       23\n",
              "5       17\n",
              "6       13\n",
              "7       13\n",
              "8        2\n",
              "9       10\n",
              "10      14\n",
              "11       2\n",
              "12       3\n",
              "Name: Qtde, dtype: int64"
            ]
          },
          "metadata": {},
          "execution_count": 24
        }
      ]
    },
    {
      "cell_type": "code",
      "metadata": {
        "id": "HpLglpwxXkZA"
      },
      "source": [
        "# Pegar apenas as vendas de 2019\n",
        "df_2019 = df[df[\"Ano_Venda\"] == 2019]"
      ],
      "execution_count": 25,
      "outputs": []
    },
    {
      "cell_type": "code",
      "metadata": {
        "colab": {
          "base_uri": "https://localhost:8080/",
          "height": 284
        },
        "id": "dGM--b5BXrqw",
        "outputId": "46deb60d-20fd-4a6d-a7e0-b01da9463652"
      },
      "source": [
        "# Total de produtos vendidos por mês 2019\n",
        "df_2019.groupby(df_2019[\"Mes_Venda\"])[\"Qtde\"].sum().plot(marker=\"o\")\n",
        "plt.xlabel = \"Mês\"\n",
        "plt.ylabel = \"Total de produtos vendidos\"\n",
        "plt.legend();"
      ],
      "execution_count": 26,
      "outputs": [
        {
          "output_type": "display_data",
          "data": {
            "image/png": "[encoded data removed]",
            "text/plain": [
              "<Figure size 432x288 with 1 Axes>"
            ]
          },
          "metadata": {}
        }
      ]
    },
    {
      "cell_type": "code",
      "metadata": {
        "colab": {
          "base_uri": "https://localhost:8080/"
        },
        "id": "P0FIW1LVXuUg",
        "outputId": "8856dac0-f52c-491f-e49a-801f147059ca"
      },
      "source": [
        "# Total de produtos vendidos por mês 2019\n",
        "\n",
        "df_2019.groupby(df_2019[\"Mes_Venda\"])[\"Qtde\"].sum()"
      ],
      "execution_count": 27,
      "outputs": [
        {
          "output_type": "execute_result",
          "data": {
            "text/plain": [
              "Mes_Venda\n",
              "1    1541\n",
              "2     128\n",
              "3     460\n",
              "4      12\n",
              "Name: Qtde, dtype: int64"
            ]
          },
          "metadata": {},
          "execution_count": 27
        }
      ]
    },
    {
      "cell_type": "code",
      "metadata": {
        "colab": {
          "base_uri": "https://localhost:8080/",
          "height": 265
        },
        "id": "iBKujM1MXzlQ",
        "outputId": "458424fd-2726-4474-f2ca-f8add6e970ad"
      },
      "source": [
        "# Histograma\n",
        "plt.hist(df[\"Qtde\"], color=\"orangered\");"
      ],
      "execution_count": 28,
      "outputs": [
        {
          "output_type": "display_data",
          "data": {
            "image/png": "[encoded data removed]",
            "text/plain": [
              "<Figure size 432x288 with 1 Axes>"
            ]
          },
          "metadata": {}
        }
      ]
    },
    {
      "cell_type": "code",
      "metadata": {
        "colab": {
          "base_uri": "https://localhost:8080/",
          "height": 265
        },
        "id": "kw9o5s5wX2zA",
        "outputId": "9edb9502-c11c-480d-fdab-fdd9d21841ab"
      },
      "source": [
        "# Gráfico de dispersão\n",
        "plt.scatter(x = df_2019[\"Dia_Venda\"], y = df_2019[\"Receita\"]);"
      ],
      "execution_count": 29,
      "outputs": [
        {
          "output_type": "display_data",
          "data": {
            "image/png": "[encoded data removed]",
            "text/plain": [
              "<Figure size 432x288 with 1 Axes>"
            ]
          },
          "metadata": {}
        }
      ]
    },
    {
      "cell_type": "code",
      "metadata": {
        "colab": {
          "base_uri": "https://localhost:8080/",
          "height": 299
        },
        "id": "7TQljaocX7gA",
        "outputId": "f78c0aae-794c-4b4f-9e79-2d06f4795eaf"
      },
      "source": [
        "# Salvar em png\n",
        "df_2019.groupby(df_2019[\"Mes_Venda\"])[\"Qtde\"].sum().plot(marker = \"v\")\n",
        "plt.title(\"Quantidade de Produtos Vendidos X Mês\")\n",
        "plt.xlabel = \"Mês\"\n",
        "plt.ylabel = \"Total de produtos vendidos\"\n",
        "plt.legend()\n",
        "plt.savefig(\"grafico qtde x mes.png\")"
      ],
      "execution_count": 30,
      "outputs": [
        {
          "output_type": "display_data",
          "data": {
            "image/png": "[encoded data removed]",
            "text/plain": [
              "<Figure size 432x288 with 1 Axes>"
            ]
          },
          "metadata": {}
        }
      ]
    }
  ]
}